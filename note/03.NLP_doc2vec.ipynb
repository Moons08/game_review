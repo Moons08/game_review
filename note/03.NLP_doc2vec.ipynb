{
 "cells": [
  {
   "cell_type": "code",
   "execution_count": 1,
   "metadata": {},
   "outputs": [],
   "source": [
    "import warnings\n",
    "warnings.filterwarnings(\"ignore\")\n",
    "\n",
    "df = pd.read_csv(\"../data/user_detail.csv\")\n",
    "df.review = df.review.apply(lambda x: x.replace(\"\\r\", \" \"))\n",
    "df=df[['score', 'review']]\n",
    "df.score = df.score.apply(lambda x: 0 if x<6 else 1)"
   ]
  },
  {
   "cell_type": "markdown",
   "metadata": {},
   "source": [
    "### train_test split"
   ]
  },
  {
   "cell_type": "code",
   "execution_count": 2,
   "metadata": {},
   "outputs": [],
   "source": [
    "from sklearn.model_selection import train_test_split\n",
    "from nltk.tokenize import word_tokenize\n",
    "from nltk.corpus import stopwords\n",
    "\n",
    "train, test = train_test_split(df)"
   ]
  },
  {
   "cell_type": "code",
   "execution_count": 3,
   "metadata": {},
   "outputs": [],
   "source": [
    "def except_stopwords(words):\n",
    "    stopWords = set(stopwords.words('english'))\n",
    "    wordsFiltered = []\n",
    "    for w in words:\n",
    "        if w not in stopWords:\n",
    "            wordsFiltered.append(w)\n",
    "    return wordsFiltered"
   ]
  },
  {
   "cell_type": "markdown",
   "metadata": {},
   "source": [
    "### tokenize + stopwords check"
   ]
  },
  {
   "cell_type": "code",
   "execution_count": 4,
   "metadata": {
    "scrolled": true
   },
   "outputs": [
    {
     "name": "stdout",
     "output_type": "stream",
     "text": [
      "CPU times: user 4min 5s, sys: 2.62 s, total: 4min 7s\n",
      "Wall time: 4min 7s\n"
     ]
    }
   ],
   "source": [
    "%%time\n",
    "train.review = train.review.apply(lambda x: except_stopwords(word_tokenize(x)))\n",
    "test.review = test.review.apply(lambda x: except_stopwords(word_tokenize(x)))"
   ]
  },
  {
   "cell_type": "markdown",
   "metadata": {},
   "source": [
    "### pos tagging"
   ]
  },
  {
   "cell_type": "code",
   "execution_count": 5,
   "metadata": {},
   "outputs": [],
   "source": [
    "from nltk.tag import pos_tag\n",
    "\n",
    "def postagger(doc):\n",
    "    return [\"/\".join(p) for p in pos_tag(doc)]"
   ]
  },
  {
   "cell_type": "code",
   "execution_count": 6,
   "metadata": {},
   "outputs": [
    {
     "name": "stdout",
     "output_type": "stream",
     "text": [
      "CPU times: user 13min 56s, sys: 2.03 s, total: 13min 58s\n",
      "Wall time: 13min 59s\n"
     ]
    }
   ],
   "source": [
    "%%time\n",
    "train_docs = [(postagger(row[1]), row[0]) for row in train.values]\n",
    "test_docs = [(postagger(row[1]), row[0]) for row in test.values]"
   ]
  },
  {
   "cell_type": "code",
   "execution_count": 7,
   "metadata": {},
   "outputs": [],
   "source": [
    "import pickle\n",
    "\n",
    "with open('train_docs', 'wb') as f:\n",
    "    pickle.dump(train_docs, f)\n",
    "with open('test_docs', 'wb') as f:\n",
    "    pickle.dump(test_docs, f)"
   ]
  },
  {
   "cell_type": "code",
   "execution_count": 8,
   "metadata": {},
   "outputs": [],
   "source": [
    "with open('train_docs', 'rb') as f:\n",
    "    train_docs = pickle.load(f)\n",
    "with open('test_docs', 'rb') as f:\n",
    "    test_docs = pickle.load(f)"
   ]
  },
  {
   "cell_type": "markdown",
   "metadata": {},
   "source": [
    "---"
   ]
  },
  {
   "cell_type": "code",
   "execution_count": 9,
   "metadata": {},
   "outputs": [
    {
     "name": "stdout",
     "output_type": "stream",
     "text": [
      "8092745\n"
     ]
    }
   ],
   "source": [
    "tokens = [t for d in train_docs for t in d[0]]\n",
    "print(len(tokens))"
   ]
  },
  {
   "cell_type": "code",
   "execution_count": 11,
   "metadata": {},
   "outputs": [
    {
     "name": "stdout",
     "output_type": "stream",
     "text": [
      "8092745\n",
      "274183\n",
      "[('./.', 544662),\n",
      " (',/,', 483854),\n",
      " ('game/NN', 216562),\n",
      " ('I/PRP', 173198),\n",
      " ('The/DT', 87220),\n",
      " (\"n't/RB\", 63428),\n",
      " (\"'s/POS\", 60145),\n",
      " ('!/.', 48121),\n",
      " ('like/IN', 45301),\n",
      " (')/)', 42021)]\n"
     ]
    }
   ],
   "source": [
    "import nltk\n",
    "from pprint import pprint\n",
    "text = nltk.Text(tokens, name='NMSC')\n",
    "\n",
    "print(len(text.tokens))                 # returns number of tokens\n",
    "print(len(set(text.tokens)))            # returns number of unique tokens\n",
    "pprint(text.vocab().most_common(10))    # returns frequency distribution"
   ]
  },
  {
   "cell_type": "code",
   "execution_count": 12,
   "metadata": {},
   "outputs": [
    {
     "data": {
      "image/png": "[encoded data removed]",
      "text/plain": [
       "<matplotlib.figure.Figure at 0x7f39e19925f8>"
      ]
     },
     "metadata": {},
     "output_type": "display_data"
    }
   ],
   "source": [
    "%matplotlib inline\n",
    "text.plot(30)"
   ]
  },
  {
   "cell_type": "markdown",
   "metadata": {},
   "source": [
    "---"
   ]
  },
  {
   "cell_type": "markdown",
   "metadata": {},
   "source": [
    "### doc2vec"
   ]
  },
  {
   "cell_type": "code",
   "execution_count": 13,
   "metadata": {},
   "outputs": [],
   "source": [
    "from collections import namedtuple\n",
    "\n",
    "TaggedDocument = namedtuple('TaggedDocument', 'words tags')\n",
    "\n",
    "tagged_train_docs = [TaggedDocument(d, [c]) for d, c in train_docs]\n",
    "tagged_test_docs = [TaggedDocument(d, [c]) for d, c in test_docs]"
   ]
  },
  {
   "cell_type": "code",
   "execution_count": 14,
   "metadata": {},
   "outputs": [],
   "source": [
    "from gensim.models import doc2vec\n",
    "# 사전 구축\n",
    "doc_vectorizer = doc2vec.Doc2Vec(vector_size=300, alpha=0.025, min_alpha=0.025, seed=0)\n",
    "doc_vectorizer.build_vocab(tagged_train_docs)"
   ]
  },
  {
   "cell_type": "code",
   "execution_count": 15,
   "metadata": {},
   "outputs": [],
   "source": [
    "doc_vectorizer.train(tagged_train_docs, total_words=200, epochs=10)"
   ]
  },
  {
   "cell_type": "code",
   "execution_count": 16,
   "metadata": {},
   "outputs": [
    {
     "name": "stdout",
     "output_type": "stream",
     "text": [
      "[('pretty/VBP', 0.5168228149414062),\n",
      " ('sick/VBP', 0.45459121465682983),\n",
      " ('arent/VBP', 0.4333750307559967),\n",
      " ('bow/VBP', 0.4276562035083771),\n",
      " ('fight/VBP', 0.4271119236946106),\n",
      " ('jump/VBP', 0.42688852548599243),\n",
      " ('somewhat/VBP', 0.4178714454174042),\n",
      " ('drawn/VBP', 0.4176331162452698),\n",
      " ('breath/VBP', 0.41567105054855347),\n",
      " ('crazy/VBP', 0.41521716117858887)]\n"
     ]
    }
   ],
   "source": [
    "pprint(doc_vectorizer.wv.most_similar('super/VBP'))"
   ]
  },
  {
   "cell_type": "code",
   "execution_count": 17,
   "metadata": {},
   "outputs": [
    {
     "name": "stdout",
     "output_type": "stream",
     "text": [
      "[('sadly/RB', 0.4954332113265991),\n",
      " ('thankfully/RB', 0.38715600967407227),\n",
      " ('ultimately/RB', 0.3534807860851288),\n",
      " ('annoying../RB', 0.3033813238143921),\n",
      " ('fun…/NN', 0.29176831245422363),\n",
      " ('quality/VBP', 0.2848546802997589),\n",
      " ('Unfortunately/RB', 0.284615695476532),\n",
      " ('Sadly/RB', 0.2832390069961548),\n",
      " ('there…/NN', 0.2786073088645935),\n",
      " ('marred/JJ', 0.27605366706848145)]\n"
     ]
    }
   ],
   "source": [
    "pprint(doc_vectorizer.wv.most_similar('unfortunately/RB'))"
   ]
  },
  {
   "cell_type": "code",
   "execution_count": 18,
   "metadata": {},
   "outputs": [
    {
     "name": "stdout",
     "output_type": "stream",
     "text": [
      "CPU times: user 2min 59s, sys: 644 ms, total: 3min\n",
      "Wall time: 3min\n"
     ]
    }
   ],
   "source": [
    "%%time\n",
    "train_x = [doc_vectorizer.infer_vector(doc.words) for doc in tagged_train_docs]\n",
    "train_y = [doc.tags[0] for doc in tagged_train_docs]\n",
    "len(train_x)"
   ]
  },
  {
   "cell_type": "code",
   "execution_count": 19,
   "metadata": {},
   "outputs": [
    {
     "name": "stdout",
     "output_type": "stream",
     "text": [
      "CPU times: user 55.8 s, sys: 155 ms, total: 55.9 s\n",
      "Wall time: 56 s\n"
     ]
    }
   ],
   "source": [
    "%%time\n",
    "test_x = [doc_vectorizer.infer_vector(doc.words) for doc in tagged_test_docs]\n",
    "test_y = [doc.tags[0] for doc in tagged_test_docs]"
   ]
  },
  {
   "cell_type": "code",
   "execution_count": 20,
   "metadata": {},
   "outputs": [
    {
     "data": {
      "text/plain": [
       "0.8077303477469636"
      ]
     },
     "execution_count": 20,
     "metadata": {},
     "output_type": "execute_result"
    }
   ],
   "source": [
    "from sklearn.linear_model import LogisticRegression\n",
    "classifier = LogisticRegression(random_state=0)\n",
    "classifier.fit(train_x, train_y)\n",
    "classifier.score(test_x, test_y)"
   ]
  },
  {
   "cell_type": "code",
   "execution_count": 21,
   "metadata": {},
   "outputs": [
    {
     "name": "stdout",
     "output_type": "stream",
     "text": [
      "acc: 0.8077303477469636\n",
      "[[ 3319  3186]\n",
      " [ 1674 17098]]\n",
      "             precision    recall  f1-score   support\n",
      "\n",
      "          0       0.66      0.51      0.58      6505\n",
      "          1       0.84      0.91      0.88     18772\n",
      "\n",
      "avg / total       0.80      0.81      0.80     25277\n",
      "\n"
     ]
    }
   ],
   "source": [
    "from sklearn.metrics import confusion_matrix, classification_report\n",
    "from sklearn.metrics import *\n",
    "\n",
    "y_pred = classifier.predict(test_x)\n",
    "\n",
    "print(\"acc:\", accuracy_score(test_y, y_pred))\n",
    "print(confusion_matrix(test_y, y_pred))\n",
    "\n",
    "print(classification_report(test_y, y_pred))"
   ]
  },
  {
   "cell_type": "markdown",
   "metadata": {},
   "source": [
    "Naive bayes와 비교\n",
    "- doc2vec와는 궁합이 잘 안맞는가..."
   ]
  },
  {
   "cell_type": "code",
   "execution_count": 22,
   "metadata": {},
   "outputs": [
    {
     "data": {
      "text/plain": [
       "0.7426514222415634"
      ]
     },
     "execution_count": 22,
     "metadata": {},
     "output_type": "execute_result"
    }
   ],
   "source": [
    "from sklearn.preprocessing import minmax_scale\n",
    "\n",
    "train_x1 = minmax_scale(train_x)\n",
    "test_x1 = minmax_scale(test_x)\n",
    "\n",
    "from sklearn.naive_bayes import MultinomialNB \n",
    "MNB = MultinomialNB(alpha=0.5)\n",
    "MNB.fit(train_x1, train_y)\n",
    "MNB.score(test_x1, test_y)"
   ]
  },
  {
   "cell_type": "code",
   "execution_count": 23,
   "metadata": {},
   "outputs": [
    {
     "name": "stdout",
     "output_type": "stream",
     "text": [
      "acc: 0.7426514222415634\n",
      "[[    0  6505]\n",
      " [    0 18772]]\n",
      "             precision    recall  f1-score   support\n",
      "\n",
      "          0       0.00      0.00      0.00      6505\n",
      "          1       0.74      1.00      0.85     18772\n",
      "\n",
      "avg / total       0.55      0.74      0.63     25277\n",
      "\n"
     ]
    }
   ],
   "source": [
    "y_pred = MNB.predict(test_x)\n",
    "\n",
    "print(\"acc:\", accuracy_score(test_y, y_pred))\n",
    "print(confusion_matrix(test_y, y_pred))\n",
    "\n",
    "print(classification_report(test_y, y_pred))"
   ]
  },
  {
   "cell_type": "code",
   "execution_count": 24,
   "metadata": {},
   "outputs": [
    {
     "data": {
      "text/plain": [
       "0.7673774577679313"
      ]
     },
     "execution_count": 24,
     "metadata": {},
     "output_type": "execute_result"
    }
   ],
   "source": [
    "from sklearn.linear_model import SGDClassifier\n",
    "clf = SGDClassifier(loss='log', random_state=1, max_iter=1)\n",
    "clf.fit(train_x, train_y)\n",
    "clf.score(test_x, test_y)"
   ]
  },
  {
   "cell_type": "code",
   "execution_count": 25,
   "metadata": {},
   "outputs": [
    {
     "name": "stdout",
     "output_type": "stream",
     "text": [
      "acc: 0.7673774577679313\n",
      "[[ 4212  2293]\n",
      " [ 3587 15185]]\n",
      "             precision    recall  f1-score   support\n",
      "\n",
      "          0       0.54      0.65      0.59      6505\n",
      "          1       0.87      0.81      0.84     18772\n",
      "\n",
      "avg / total       0.78      0.77      0.77     25277\n",
      "\n"
     ]
    }
   ],
   "source": [
    "y_pred = clf.predict(test_x)\n",
    "\n",
    "print(\"acc:\", accuracy_score(test_y, y_pred))\n",
    "print(confusion_matrix(test_y, y_pred))\n",
    "\n",
    "print(classification_report(test_y, y_pred))"
   ]
  },
  {
   "cell_type": "markdown",
   "metadata": {},
   "source": [
    "### todo\n",
    "- gridsearch"
   ]
  }
 ],
 "metadata": {
  "kernelspec": {
   "display_name": "Python 3",
   "language": "python",
   "name": "python3"
  },
  "language_info": {
   "codemirror_mode": {
    "name": "ipython",
    "version": 3
   },
   "file_extension": ".py",
   "mimetype": "text/x-python",
   "name": "python",
   "nbconvert_exporter": "python",
   "pygments_lexer": "ipython3",
   "version": "3.6.4"
  }
 },
 "nbformat": 4,
 "nbformat_minor": 2
}

{
 "cells": [
  {
   "cell_type": "markdown",
   "metadata": {},
   "source": [
    "## set data"
   ]
  },
  {
   "cell_type": "code",
   "execution_count": 1,
   "metadata": {},
   "outputs": [],
   "source": [
    "df = pd.read_csv('../data/user_detail.csv')\n",
    "df = df[['id', 'title', 'score']]"
   ]
  },
  {
   "cell_type": "code",
   "execution_count": 2,
   "metadata": {},
   "outputs": [],
   "source": [
    "import warnings\n",
    "warnings.filterwarnings(\"ignore\")\n",
    "from sklearn.preprocessing import LabelEncoder\n",
    "\n",
    "# 개인정보 보호를 위해 id 인코딩\n",
    "id_ = LabelEncoder()\n",
    "df['id'] = id_.fit_transform(df['id'])"
   ]
  },
  {
   "cell_type": "code",
   "execution_count": 3,
   "metadata": {},
   "outputs": [
    {
     "data": {
      "text/html": [
       "<div>\n",
       "<style scoped>\n",
       "    .dataframe tbody tr th:only-of-type {\n",
       "        vertical-align: middle;\n",
       "    }\n",
       "\n",
       "    .dataframe tbody tr th {\n",
       "        vertical-align: top;\n",
       "    }\n",
       "\n",
       "    .dataframe thead th {\n",
       "        text-align: right;\n",
       "    }\n",
       "</style>\n",
       "<table border=\"1\" class=\"dataframe\">\n",
       "  <thead>\n",
       "    <tr style=\"text-align: right;\">\n",
       "      <th></th>\n",
       "      <th>id</th>\n",
       "      <th>title</th>\n",
       "      <th>score</th>\n",
       "    </tr>\n",
       "  </thead>\n",
       "  <tbody>\n",
       "    <tr>\n",
       "      <th>101102</th>\n",
       "      <td>9329</td>\n",
       "      <td>Dusty Raging Fist</td>\n",
       "      <td>10</td>\n",
       "    </tr>\n",
       "    <tr>\n",
       "      <th>101103</th>\n",
       "      <td>9329</td>\n",
       "      <td>Sea of Thieves</td>\n",
       "      <td>9</td>\n",
       "    </tr>\n",
       "    <tr>\n",
       "      <th>101104</th>\n",
       "      <td>11924</td>\n",
       "      <td>Rogue Aces</td>\n",
       "      <td>9</td>\n",
       "    </tr>\n",
       "    <tr>\n",
       "      <th>101105</th>\n",
       "      <td>11924</td>\n",
       "      <td>Star Wars Battlefront II</td>\n",
       "      <td>0</td>\n",
       "    </tr>\n",
       "    <tr>\n",
       "      <th>101106</th>\n",
       "      <td>15435</td>\n",
       "      <td>Project Nimbus: Code Mirai</td>\n",
       "      <td>10</td>\n",
       "    </tr>\n",
       "  </tbody>\n",
       "</table>\n",
       "</div>"
      ],
      "text/plain": [
       "           id                       title  score\n",
       "101102   9329           Dusty Raging Fist     10\n",
       "101103   9329              Sea of Thieves      9\n",
       "101104  11924                  Rogue Aces      9\n",
       "101105  11924    Star Wars Battlefront II      0\n",
       "101106  15435  Project Nimbus: Code Mirai     10"
      ]
     },
     "execution_count": 3,
     "metadata": {},
     "output_type": "execute_result"
    }
   ],
   "source": [
    "df.tail()"
   ]
  },
  {
   "cell_type": "code",
   "execution_count": 4,
   "metadata": {},
   "outputs": [
    {
     "name": "stdout",
     "output_type": "stream",
     "text": [
      "<class 'pandas.core.frame.DataFrame'>\n",
      "RangeIndex: 101107 entries, 0 to 101106\n",
      "Data columns (total 3 columns):\n",
      "id       101107 non-null int64\n",
      "title    101107 non-null object\n",
      "score    101107 non-null int64\n",
      "dtypes: int64(2), object(1)\n",
      "memory usage: 2.3+ MB\n"
     ]
    }
   ],
   "source": [
    "df.info()"
   ]
  },
  {
   "cell_type": "code",
   "execution_count": 5,
   "metadata": {},
   "outputs": [
    {
     "data": {
      "text/html": [
       "<div>\n",
       "<style scoped>\n",
       "    .dataframe tbody tr th:only-of-type {\n",
       "        vertical-align: middle;\n",
       "    }\n",
       "\n",
       "    .dataframe tbody tr th {\n",
       "        vertical-align: top;\n",
       "    }\n",
       "\n",
       "    .dataframe thead th {\n",
       "        text-align: right;\n",
       "    }\n",
       "</style>\n",
       "<table border=\"1\" class=\"dataframe\">\n",
       "  <thead>\n",
       "    <tr style=\"text-align: right;\">\n",
       "      <th></th>\n",
       "      <th>id</th>\n",
       "      <th>score</th>\n",
       "    </tr>\n",
       "  </thead>\n",
       "  <tbody>\n",
       "    <tr>\n",
       "      <th>count</th>\n",
       "      <td>101107.000000</td>\n",
       "      <td>101107.000000</td>\n",
       "    </tr>\n",
       "    <tr>\n",
       "      <th>mean</th>\n",
       "      <td>8571.260407</td>\n",
       "      <td>6.941339</td>\n",
       "    </tr>\n",
       "    <tr>\n",
       "      <th>std</th>\n",
       "      <td>4953.846175</td>\n",
       "      <td>3.125917</td>\n",
       "    </tr>\n",
       "    <tr>\n",
       "      <th>min</th>\n",
       "      <td>0.000000</td>\n",
       "      <td>0.000000</td>\n",
       "    </tr>\n",
       "    <tr>\n",
       "      <th>25%</th>\n",
       "      <td>4189.500000</td>\n",
       "      <td>5.000000</td>\n",
       "    </tr>\n",
       "    <tr>\n",
       "      <th>50%</th>\n",
       "      <td>8723.000000</td>\n",
       "      <td>8.000000</td>\n",
       "    </tr>\n",
       "    <tr>\n",
       "      <th>75%</th>\n",
       "      <td>12779.500000</td>\n",
       "      <td>9.000000</td>\n",
       "    </tr>\n",
       "    <tr>\n",
       "      <th>max</th>\n",
       "      <td>17263.000000</td>\n",
       "      <td>10.000000</td>\n",
       "    </tr>\n",
       "  </tbody>\n",
       "</table>\n",
       "</div>"
      ],
      "text/plain": [
       "                  id          score\n",
       "count  101107.000000  101107.000000\n",
       "mean     8571.260407       6.941339\n",
       "std      4953.846175       3.125917\n",
       "min         0.000000       0.000000\n",
       "25%      4189.500000       5.000000\n",
       "50%      8723.000000       8.000000\n",
       "75%     12779.500000       9.000000\n",
       "max     17263.000000      10.000000"
      ]
     },
     "execution_count": 5,
     "metadata": {},
     "output_type": "execute_result"
    }
   ],
   "source": [
    "df.describe()"
   ]
  },
  {
   "cell_type": "code",
   "execution_count": 6,
   "metadata": {},
   "outputs": [
    {
     "name": "stdout",
     "output_type": "stream",
     "text": [
      "\n",
      "평가한 유저의 수: 17264\n",
      "평가된 게임의 수: 8811\n"
     ]
    }
   ],
   "source": [
    "unique_user = df[\"id\"].unique()\n",
    "print('\\n평가한 유저의 수:', len(unique_user))\n",
    "unique_game = df[\"title\"].unique()\n",
    "print('평가된 게임의 수:', len(unique_game))"
   ]
  },
  {
   "cell_type": "code",
   "execution_count": 7,
   "metadata": {},
   "outputs": [
    {
     "name": "stdout",
     "output_type": "stream",
     "text": [
      "\n",
      "score count\n"
     ]
    },
    {
     "data": {
      "image/png": "[encoded data removed]",
      "text/plain": [
       "<matplotlib.figure.Figure at 0x7fdc4d4696a0>"
      ]
     },
     "metadata": {},
     "output_type": "display_data"
    }
   ],
   "source": [
    "%matplotlib inline\n",
    "df['5_star'] = df.score.apply(lambda x: 1 if x<3 else 2 if x<6 else 3 if x<8 else 4 if x<10 else 5) # 012/345/67/89/10\n",
    "df['good_bad'] = df.score.apply(lambda x: 1 if x<6 else 2) #012345/678910\n",
    "print(\"\\nscore count\")\n",
    "plt.figure(figsize=(15,4))\n",
    "plt.subplot(131)\n",
    "plt.title('Metacritic style')\n",
    "sns.countplot(df.score)\n",
    "plt.subplot(132)\n",
    "plt.title('Watcha style')\n",
    "sns.countplot(df['5_star'])\n",
    "plt.subplot(133)\n",
    "plt.title('Netflix style')\n",
    "sns.countplot(df['good_bad'])\n",
    "plt.tight_layout()\n",
    "plt.show()"
   ]
  },
  {
   "cell_type": "code",
   "execution_count": 8,
   "metadata": {},
   "outputs": [
    {
     "data": {
      "text/html": [
       "<div>\n",
       "<style scoped>\n",
       "    .dataframe tbody tr th:only-of-type {\n",
       "        vertical-align: middle;\n",
       "    }\n",
       "\n",
       "    .dataframe tbody tr th {\n",
       "        vertical-align: top;\n",
       "    }\n",
       "\n",
       "    .dataframe thead th {\n",
       "        text-align: right;\n",
       "    }\n",
       "</style>\n",
       "<table border=\"1\" class=\"dataframe\">\n",
       "  <thead>\n",
       "    <tr style=\"text-align: right;\">\n",
       "      <th></th>\n",
       "      <th>id</th>\n",
       "      <th>user_rating_count</th>\n",
       "    </tr>\n",
       "  </thead>\n",
       "  <tbody>\n",
       "    <tr>\n",
       "      <th>9015</th>\n",
       "      <td>9015</td>\n",
       "      <td>980</td>\n",
       "    </tr>\n",
       "    <tr>\n",
       "      <th>9416</th>\n",
       "      <td>9416</td>\n",
       "      <td>787</td>\n",
       "    </tr>\n",
       "    <tr>\n",
       "      <th>1266</th>\n",
       "      <td>1266</td>\n",
       "      <td>674</td>\n",
       "    </tr>\n",
       "    <tr>\n",
       "      <th>3430</th>\n",
       "      <td>3430</td>\n",
       "      <td>569</td>\n",
       "    </tr>\n",
       "    <tr>\n",
       "      <th>13129</th>\n",
       "      <td>13129</td>\n",
       "      <td>446</td>\n",
       "    </tr>\n",
       "  </tbody>\n",
       "</table>\n",
       "</div>"
      ],
      "text/plain": [
       "          id  user_rating_count\n",
       "9015    9015                980\n",
       "9416    9416                787\n",
       "1266    1266                674\n",
       "3430    3430                569\n",
       "13129  13129                446"
      ]
     },
     "execution_count": 8,
     "metadata": {},
     "output_type": "execute_result"
    }
   ],
   "source": [
    "# user 분포\n",
    "user_counts_df = df.groupby(\"id\").size().reset_index(name=\"user_rating_count\")\n",
    "user_counts_df = user_counts_df.sort_values(\"user_rating_count\", ascending=False)\n",
    "user_counts_df.head()"
   ]
  },
  {
   "cell_type": "code",
   "execution_count": 9,
   "metadata": {},
   "outputs": [
    {
     "data": {
      "text/html": [
       "<div>\n",
       "<style scoped>\n",
       "    .dataframe tbody tr th:only-of-type {\n",
       "        vertical-align: middle;\n",
       "    }\n",
       "\n",
       "    .dataframe tbody tr th {\n",
       "        vertical-align: top;\n",
       "    }\n",
       "\n",
       "    .dataframe thead th {\n",
       "        text-align: right;\n",
       "    }\n",
       "</style>\n",
       "<table border=\"1\" class=\"dataframe\">\n",
       "  <thead>\n",
       "    <tr style=\"text-align: right;\">\n",
       "      <th></th>\n",
       "      <th>title</th>\n",
       "      <th>title_rating_count</th>\n",
       "    </tr>\n",
       "  </thead>\n",
       "  <tbody>\n",
       "    <tr>\n",
       "      <th>7808</th>\n",
       "      <td>The Witcher 3: Wild Hunt</td>\n",
       "      <td>824</td>\n",
       "    </tr>\n",
       "    <tr>\n",
       "      <th>2545</th>\n",
       "      <td>Fallout 4</td>\n",
       "      <td>804</td>\n",
       "    </tr>\n",
       "    <tr>\n",
       "      <th>1776</th>\n",
       "      <td>Destiny</td>\n",
       "      <td>789</td>\n",
       "    </tr>\n",
       "    <tr>\n",
       "      <th>3107</th>\n",
       "      <td>Grand Theft Auto V</td>\n",
       "      <td>749</td>\n",
       "    </tr>\n",
       "    <tr>\n",
       "      <th>8192</th>\n",
       "      <td>Uncharted 4: A Thief's End</td>\n",
       "      <td>718</td>\n",
       "    </tr>\n",
       "  </tbody>\n",
       "</table>\n",
       "</div>"
      ],
      "text/plain": [
       "                           title  title_rating_count\n",
       "7808    The Witcher 3: Wild Hunt                 824\n",
       "2545                   Fallout 4                 804\n",
       "1776                     Destiny                 789\n",
       "3107          Grand Theft Auto V                 749\n",
       "8192  Uncharted 4: A Thief's End                 718"
      ]
     },
     "execution_count": 9,
     "metadata": {},
     "output_type": "execute_result"
    }
   ],
   "source": [
    "# title 분포\n",
    "title_counts_df = df.groupby(\"title\").size().reset_index(name=\"title_rating_count\")\n",
    "title_counts_df = title_counts_df.sort_values(\"title_rating_count\", ascending=False)\n",
    "title_counts_df.head()"
   ]
  },
  {
   "cell_type": "markdown",
   "metadata": {},
   "source": [
    "---"
   ]
  },
  {
   "cell_type": "code",
   "execution_count": 10,
   "metadata": {},
   "outputs": [
    {
     "name": "stdout",
     "output_type": "stream",
     "text": [
      "\n",
      " 1 개 이상 평가한 고객\n",
      " 1 번 이상 평가된 게임으로 필터링\n",
      "\n",
      "필터링된 데이터 수: 101107\n",
      "원본 데이터 수: 101107\n"
     ]
    }
   ],
   "source": [
    "# user 최소 평가수, title 최소 평가수\n",
    "user_limit, title_limit = 1, 1\n",
    "\n",
    "filtered_id = user_counts_df[user_counts_df[\"user_rating_count\"] >= user_limit]\n",
    "filtered_id = list(filtered_id[\"id\"])\n",
    "\n",
    "filtered_title = title_counts_df[title_counts_df[\"title_rating_count\"] >= title_limit]\n",
    "filtered_title = list(filtered_title[\"title\"])\n",
    "\n",
    "filtered_df = df[df[\"id\"].isin(filtered_id)]\n",
    "filtered_df = filtered_df[filtered_df[\"title\"].isin(filtered_title)]\n",
    "\n",
    "print(\"\\n\", user_limit, \"개 이상 평가한 고객\\n\", title_limit, \"번 이상 평가된 게임으로 필터링\\n\")\n",
    "print(\"필터링된 데이터 수:\", len(filtered_df))\n",
    "print(\"원본 데이터 수:\", len(df))"
   ]
  },
  {
   "cell_type": "markdown",
   "metadata": {},
   "source": [
    "### 몇 번 이상 평가된 게임만 추려서 모델링은 한다는 의미는?\n",
    "그 이하로 평가된 게임은 **추천하지 않겠다**는 의미 (추천시스템의 성능을 위해)\n",
    "\n",
    "하지만 평가가 적은 게임은 `추천 시스템을 통해서는` **신규 유입**이 없을 것\n",
    "    - 이런 방식으로 데이터를 추리는 것은 추천 시스템의 의미가 퇴색 \n",
    ">**추천 시스템**\n",
    ">\n",
    "알려지지 않은 작품을 고객에게 추천하여 주류 작품에만 수요가 몰리는 상황을 타개\n",
    "> \n",
    "공급이 한정적이지 않은 디지털 컨텐츠에도 적용이 되는가?\n",
    "> - 알려지지 않은 작품(비주류)는 라이센스 비용이 상대적으로 저렴\n",
    ">- 동일 조건하의 비용 절감은 언제나 옳다"
   ]
  },
  {
   "cell_type": "code",
   "execution_count": 11,
   "metadata": {},
   "outputs": [
    {
     "data": {
      "text/html": [
       "<div>\n",
       "<style scoped>\n",
       "    .dataframe tbody tr th:only-of-type {\n",
       "        vertical-align: middle;\n",
       "    }\n",
       "\n",
       "    .dataframe tbody tr th {\n",
       "        vertical-align: top;\n",
       "    }\n",
       "\n",
       "    .dataframe thead th {\n",
       "        text-align: right;\n",
       "    }\n",
       "</style>\n",
       "<table border=\"1\" class=\"dataframe\">\n",
       "  <thead>\n",
       "    <tr style=\"text-align: right;\">\n",
       "      <th></th>\n",
       "      <th>id</th>\n",
       "      <th>title</th>\n",
       "      <th>score</th>\n",
       "      <th>5_star</th>\n",
       "      <th>good_bad</th>\n",
       "    </tr>\n",
       "  </thead>\n",
       "  <tbody>\n",
       "    <tr>\n",
       "      <th>101102</th>\n",
       "      <td>9329</td>\n",
       "      <td>Dusty Raging Fist</td>\n",
       "      <td>10</td>\n",
       "      <td>5</td>\n",
       "      <td>2</td>\n",
       "    </tr>\n",
       "    <tr>\n",
       "      <th>101103</th>\n",
       "      <td>9329</td>\n",
       "      <td>Sea of Thieves</td>\n",
       "      <td>9</td>\n",
       "      <td>4</td>\n",
       "      <td>2</td>\n",
       "    </tr>\n",
       "    <tr>\n",
       "      <th>101104</th>\n",
       "      <td>11924</td>\n",
       "      <td>Rogue Aces</td>\n",
       "      <td>9</td>\n",
       "      <td>4</td>\n",
       "      <td>2</td>\n",
       "    </tr>\n",
       "    <tr>\n",
       "      <th>101105</th>\n",
       "      <td>11924</td>\n",
       "      <td>Star Wars Battlefront II</td>\n",
       "      <td>0</td>\n",
       "      <td>1</td>\n",
       "      <td>1</td>\n",
       "    </tr>\n",
       "    <tr>\n",
       "      <th>101106</th>\n",
       "      <td>15435</td>\n",
       "      <td>Project Nimbus: Code Mirai</td>\n",
       "      <td>10</td>\n",
       "      <td>5</td>\n",
       "      <td>2</td>\n",
       "    </tr>\n",
       "  </tbody>\n",
       "</table>\n",
       "</div>"
      ],
      "text/plain": [
       "           id                       title  score  5_star  good_bad\n",
       "101102   9329           Dusty Raging Fist     10       5         2\n",
       "101103   9329              Sea of Thieves      9       4         2\n",
       "101104  11924                  Rogue Aces      9       4         2\n",
       "101105  11924    Star Wars Battlefront II      0       1         1\n",
       "101106  15435  Project Nimbus: Code Mirai     10       5         2"
      ]
     },
     "execution_count": 11,
     "metadata": {},
     "output_type": "execute_result"
    }
   ],
   "source": [
    "filtered_df.tail()"
   ]
  },
  {
   "cell_type": "markdown",
   "metadata": {},
   "source": [
    "---"
   ]
  },
  {
   "cell_type": "markdown",
   "metadata": {},
   "source": [
    "## Surprise"
   ]
  },
  {
   "cell_type": "code",
   "execution_count": 13,
   "metadata": {},
   "outputs": [],
   "source": [
    "import os\n",
    "import surprise\n",
    "from surprise import Dataset\n",
    "from surprise import Reader\n",
    "from surprise.model_selection import cross_validate\n",
    "from surprise.model_selection import GridSearchCV\n",
    "from surprise.model_selection import train_test_split\n",
    "\n",
    "Meta = Dataset.load_from_df(filtered_df[['id', 'title','score']], reader=Reader(rating_scale=(0,10)))\n",
    "Watcha = Dataset.load_from_df(filtered_df[['id', 'title','5_star']], reader=Reader(rating_scale=(1,5)))\n",
    "Netflix = Dataset.load_from_df(filtered_df[['id', 'title','good_bad']], reader=Reader(rating_scale=(1,2)))"
   ]
  },
  {
   "cell_type": "markdown",
   "metadata": {},
   "source": [
    "### SVD"
   ]
  },
  {
   "cell_type": "code",
   "execution_count": 14,
   "metadata": {},
   "outputs": [
    {
     "name": "stdout",
     "output_type": "stream",
     "text": [
      "Meta style score:\n",
      "Evaluating RMSE, MAE of algorithm SVD on 5 split(s).\n",
      "\n",
      "                  Fold 1  Fold 2  Fold 3  Fold 4  Fold 5  Mean    Std     \n",
      "RMSE (testset)    2.4823  2.5010  2.4754  2.4848  2.5036  2.4894  0.0110  \n",
      "MAE (testset)     1.8576  1.8741  1.8514  1.8575  1.8689  1.8619  0.0083  \n",
      "Fit time          15.37   16.10   15.58   15.00   8.56    14.12   2.81    \n",
      "Test time         0.71    0.66    0.65    0.59    0.29    0.58    0.15    \n",
      "\n",
      "Watcha style score:\n",
      "Evaluating RMSE, MAE of algorithm SVD on 5 split(s).\n",
      "\n",
      "                  Fold 1  Fold 2  Fold 3  Fold 4  Fold 5  Mean    Std     \n",
      "RMSE (testset)    1.0869  1.0690  1.0721  1.0828  1.0823  1.0786  0.0068  \n",
      "MAE (testset)     0.8603  0.8413  0.8452  0.8558  0.8564  0.8518  0.0073  \n",
      "Fit time          14.34   15.24   16.21   15.51   9.36    14.13   2.46    \n",
      "Test time         0.60    1.05    0.64    0.46    0.24    0.60    0.27    \n",
      "\n",
      "Netflix style score:\n",
      "Evaluating RMSE, MAE of algorithm SVD on 5 split(s).\n",
      "\n",
      "                  Fold 1  Fold 2  Fold 3  Fold 4  Fold 5  Mean    Std     \n",
      "RMSE (testset)    0.3737  0.3726  0.3739  0.3786  0.3779  0.3753  0.0024  \n",
      "MAE (testset)     0.2829  0.2822  0.2842  0.2871  0.2859  0.2845  0.0018  \n",
      "Fit time          14.79   13.73   14.59   13.85   8.32    13.05   2.40    \n",
      "Test time         0.59    0.64    0.38    0.52    0.23    0.47    0.15    \n"
     ]
    }
   ],
   "source": [
    "algo = surprise.SVD()\n",
    "print('Meta style score:')\n",
    "m_score = cross_validate(algo, Meta, cv=5, verbose=True, n_jobs=-1)\n",
    "print('\\nWatcha style score:')\n",
    "w_score = cross_validate(algo, Watcha, cv=5, verbose=True, n_jobs=-1)\n",
    "print('\\nNetflix style score:')\n",
    "n_score = cross_validate(algo, Netflix , cv=5, verbose=True, n_jobs=-1)"
   ]
  },
  {
   "cell_type": "markdown",
   "metadata": {},
   "source": [
    "- 당연하게도, 클래스 수가 적을 수록 MAE, RMSE는 작다."
   ]
  },
  {
   "cell_type": "markdown",
   "metadata": {},
   "source": [
    "---"
   ]
  },
  {
   "cell_type": "code",
   "execution_count": 15,
   "metadata": {},
   "outputs": [],
   "source": [
    "trainset=Meta.build_full_trainset()\n",
    "Meta_model = surprise.SVD().fit(trainset)\n",
    "\n",
    "trainset=Watcha.build_full_trainset()\n",
    "Watcha_model = surprise.SVD().fit(trainset)\n",
    "\n",
    "trainset=Netflix.build_full_trainset()\n",
    "Netflix_model = surprise.SVD().fit(trainset)"
   ]
  },
  {
   "cell_type": "code",
   "execution_count": 16,
   "metadata": {
    "scrolled": true
   },
   "outputs": [
    {
     "data": {
      "text/html": [
       "<div>\n",
       "<style scoped>\n",
       "    .dataframe tbody tr th:only-of-type {\n",
       "        vertical-align: middle;\n",
       "    }\n",
       "\n",
       "    .dataframe tbody tr th {\n",
       "        vertical-align: top;\n",
       "    }\n",
       "\n",
       "    .dataframe thead th {\n",
       "        text-align: right;\n",
       "    }\n",
       "</style>\n",
       "<table border=\"1\" class=\"dataframe\">\n",
       "  <thead>\n",
       "    <tr style=\"text-align: right;\">\n",
       "      <th></th>\n",
       "      <th>id</th>\n",
       "      <th>title</th>\n",
       "      <th>score</th>\n",
       "      <th>5_star</th>\n",
       "      <th>good_bad</th>\n",
       "    </tr>\n",
       "  </thead>\n",
       "  <tbody>\n",
       "    <tr>\n",
       "      <th>100265</th>\n",
       "      <td>3272</td>\n",
       "      <td>Middle-earth: Shadow of War</td>\n",
       "      <td>0</td>\n",
       "      <td>1</td>\n",
       "      <td>1</td>\n",
       "    </tr>\n",
       "    <tr>\n",
       "      <th>100517</th>\n",
       "      <td>6865</td>\n",
       "      <td>Middle-earth: Shadow of War</td>\n",
       "      <td>9</td>\n",
       "      <td>4</td>\n",
       "      <td>2</td>\n",
       "    </tr>\n",
       "    <tr>\n",
       "      <th>101026</th>\n",
       "      <td>14627</td>\n",
       "      <td>Middle-earth: Shadow of War</td>\n",
       "      <td>8</td>\n",
       "      <td>4</td>\n",
       "      <td>2</td>\n",
       "    </tr>\n",
       "    <tr>\n",
       "      <th>101070</th>\n",
       "      <td>3792</td>\n",
       "      <td>Middle-earth: Shadow of War</td>\n",
       "      <td>0</td>\n",
       "      <td>1</td>\n",
       "      <td>1</td>\n",
       "    </tr>\n",
       "    <tr>\n",
       "      <th>101086</th>\n",
       "      <td>11664</td>\n",
       "      <td>Middle-earth: Shadow of War</td>\n",
       "      <td>10</td>\n",
       "      <td>5</td>\n",
       "      <td>2</td>\n",
       "    </tr>\n",
       "  </tbody>\n",
       "</table>\n",
       "</div>"
      ],
      "text/plain": [
       "           id                        title  score  5_star  good_bad\n",
       "100265   3272  Middle-earth: Shadow of War      0       1         1\n",
       "100517   6865  Middle-earth: Shadow of War      9       4         2\n",
       "101026  14627  Middle-earth: Shadow of War      8       4         2\n",
       "101070   3792  Middle-earth: Shadow of War      0       1         1\n",
       "101086  11664  Middle-earth: Shadow of War     10       5         2"
      ]
     },
     "execution_count": 16,
     "metadata": {},
     "output_type": "execute_result"
    }
   ],
   "source": [
    "df[df.title=='Middle-earth: Shadow of War'].tail()"
   ]
  },
  {
   "cell_type": "markdown",
   "metadata": {},
   "source": [
    "metacritic style: 5/5"
   ]
  },
  {
   "cell_type": "code",
   "execution_count": 17,
   "metadata": {},
   "outputs": [
    {
     "name": "stdout",
     "output_type": "stream",
     "text": [
      "user: 3272       item: Middle-earth: Shadow of War r_ui = 0.00   est = 0.27   {'was_impossible': False}\n",
      "user: 6865       item: Middle-earth: Shadow of War r_ui = 9.00   est = 8.83   {'was_impossible': False}\n",
      "user: 14627      item: Middle-earth: Shadow of War r_ui = 8.00   est = 7.96   {'was_impossible': False}\n",
      "user: 3792       item: Middle-earth: Shadow of War r_ui = 0.00   est = 0.53   {'was_impossible': False}\n",
      "user: 11664      item: Middle-earth: Shadow of War r_ui = 10.00   est = 9.90   {'was_impossible': False}\n"
     ]
    }
   ],
   "source": [
    "iid = 'Middle-earth: Shadow of War'\n",
    "pred=Meta_model.predict(3272, iid, r_ui=0, verbose=True)\n",
    "pred=Meta_model.predict(6865, iid, r_ui=9, verbose=True)\n",
    "pred=Meta_model.predict(14627, iid, r_ui=8, verbose=True)\n",
    "pred=Meta_model.predict(3792, iid, r_ui=0, verbose=True)\n",
    "pred=Meta_model.predict(11664, iid, r_ui=10, verbose=True)"
   ]
  },
  {
   "cell_type": "markdown",
   "metadata": {},
   "source": [
    "Watcha: 1/5"
   ]
  },
  {
   "cell_type": "code",
   "execution_count": 18,
   "metadata": {},
   "outputs": [
    {
     "name": "stdout",
     "output_type": "stream",
     "text": [
      "user: 3272       item: Middle-earth: Shadow of War r_ui = 1.00   est = 1.75   {'was_impossible': False}\n",
      "user: 6865       item: Middle-earth: Shadow of War r_ui = 5.00   est = 3.35   {'was_impossible': False}\n",
      "user: 14627      item: Middle-earth: Shadow of War r_ui = 4.00   est = 3.62   {'was_impossible': False}\n",
      "user: 3792       item: Middle-earth: Shadow of War r_ui = 1.00   est = 1.54   {'was_impossible': False}\n",
      "user: 11664      item: Middle-earth: Shadow of War r_ui = 5.00   est = 3.98   {'was_impossible': False}\n"
     ]
    }
   ],
   "source": [
    "pred=Watcha_model.predict(3272, iid, r_ui=1, verbose=True)\n",
    "pred=Watcha_model.predict(6865, iid, r_ui=5, verbose=True)\n",
    "pred=Watcha_model.predict(14627, iid, r_ui=4, verbose=True)\n",
    "pred=Watcha_model.predict(3792, iid, r_ui=1, verbose=True)\n",
    "pred=Watcha_model.predict(11664, iid, r_ui=5, verbose=True)"
   ]
  },
  {
   "cell_type": "markdown",
   "metadata": {},
   "source": [
    "Netflix: 4/5"
   ]
  },
  {
   "cell_type": "code",
   "execution_count": 19,
   "metadata": {},
   "outputs": [
    {
     "name": "stdout",
     "output_type": "stream",
     "text": [
      "user: 3272       item: Middle-earth: Shadow of War r_ui = 1.00   est = 1.46   {'was_impossible': False}\n",
      "user: 6865       item: Middle-earth: Shadow of War r_ui = 2.00   est = 1.51   {'was_impossible': False}\n",
      "user: 14627      item: Middle-earth: Shadow of War r_ui = 2.00   est = 1.61   {'was_impossible': False}\n",
      "user: 3792       item: Middle-earth: Shadow of War r_ui = 1.00   est = 1.44   {'was_impossible': False}\n",
      "user: 11664      item: Middle-earth: Shadow of War r_ui = 2.00   est = 1.44   {'was_impossible': False}\n"
     ]
    }
   ],
   "source": [
    "pred=Netflix_model.predict(3272, iid, r_ui=1, verbose=True)\n",
    "pred=Netflix_model.predict(6865, iid, r_ui=2, verbose=True)\n",
    "pred=Netflix_model.predict(14627, iid, r_ui=2, verbose=True)\n",
    "pred=Netflix_model.predict(3792, iid, r_ui=1, verbose=True)\n",
    "pred=Netflix_model.predict(11664, iid, r_ui=2, verbose=True)"
   ]
  },
  {
   "cell_type": "markdown",
   "metadata": {},
   "source": [
    "분류해야할 클래스의 수가 적을 수록 정확도가 높아지는 것이 정상.\n",
    "\n",
    "오히려 더 틀리는 이유?\n",
    "1. 11개 클래스(0-10) 를 5개, 2개로 나누는 기준 미흡\n",
    "1. 최적화가 되지 않음"
   ]
  },
  {
   "cell_type": "markdown",
   "metadata": {},
   "source": [
    "### 추천 시스템에 어떤 평가방식(클래스 수)이 적절할까?\n",
    "\n",
    "- 어차피 문제는 어떤 작품을 추천 하느냐, 마느냐\n",
    "- 10점, 5점만점으로 해도 결국 일정 수치를 넘어야 추천을 하게 됨 \n",
    "- 결국 이진 분류 문제와 같다\n",
    "\n",
    "#### 이진 분류 문제로 푸는 경우의 문제점\n",
    "\n",
    "- 사용자가 '얼마나' 좋아하는 지에 대한 척도가 없다 \n",
    "- 따라서 추천의 우선순위가 사라짐\n",
    "\n",
    "이진 분류 문제로 풀기 위해서는 `점수` 외에 다른 척도가 필요하다. "
   ]
  },
  {
   "cell_type": "markdown",
   "metadata": {},
   "source": [
    "### GridSearchCV"
   ]
  },
  {
   "cell_type": "code",
   "execution_count": 20,
   "metadata": {},
   "outputs": [],
   "source": [
    "param_grid = {'n_epochs': [60, 80, 90], \n",
    "                      'n_factors': [50, 100, 200],\n",
    "                      'lr_all': [0.005, 0.01, 0.02],\n",
    "                      'reg_all': [0.01, 0.02, 0.04]}\n",
    "gs = GridSearchCV(surprise.SVD, param_grid, measures=['rmse', 'mae'], cv=5, n_jobs=-1)"
   ]
  },
  {
   "cell_type": "code",
   "execution_count": 21,
   "metadata": {},
   "outputs": [
    {
     "name": "stdout",
     "output_type": "stream",
     "text": [
      "CPU times: user 1min 16s, sys: 7.07 s, total: 1min 23s\n",
      "Wall time: 1h 48min 5s\n"
     ]
    }
   ],
   "source": [
    "%time gs.fit(Netflix)"
   ]
  },
  {
   "cell_type": "code",
   "execution_count": 22,
   "metadata": {},
   "outputs": [
    {
     "name": "stdout",
     "output_type": "stream",
     "text": [
      "0.26380477374063827\n",
      "{'n_epochs': 90, 'n_factors': 50, 'lr_all': 0.02, 'reg_all': 0.02}\n"
     ]
    }
   ],
   "source": [
    "print(gs.best_score['mae'])\n",
    "print(gs.best_params['mae'])"
   ]
  },
  {
   "cell_type": "code",
   "execution_count": 23,
   "metadata": {},
   "outputs": [],
   "source": [
    "trainset=Netflix.build_full_trainset()\n",
    "Netflix_model = surprise.SVD(n_factors=50, n_epochs=90, lr_all=0.02, reg_all=0.02).fit(trainset)"
   ]
  },
  {
   "cell_type": "code",
   "execution_count": 24,
   "metadata": {},
   "outputs": [
    {
     "name": "stdout",
     "output_type": "stream",
     "text": [
      "user: 3272       item: Middle-earth: Shadow of War r_ui = 1.00   est = 1.09   {'was_impossible': False}\n",
      "user: 6865       item: Middle-earth: Shadow of War r_ui = 2.00   est = 1.89   {'was_impossible': False}\n",
      "user: 14627      item: Middle-earth: Shadow of War r_ui = 2.00   est = 1.92   {'was_impossible': False}\n",
      "user: 3792       item: Middle-earth: Shadow of War r_ui = 1.00   est = 1.08   {'was_impossible': False}\n",
      "user: 11664      item: Middle-earth: Shadow of War r_ui = 2.00   est = 1.95   {'was_impossible': False}\n"
     ]
    }
   ],
   "source": [
    "pred=Netflix_model.predict(3272, iid, r_ui=1, verbose=True)\n",
    "pred=Netflix_model.predict(6865, iid, r_ui=2, verbose=True)\n",
    "pred=Netflix_model.predict(14627, iid, r_ui=2, verbose=True)\n",
    "pred=Netflix_model.predict(3792, iid, r_ui=1, verbose=True)\n",
    "pred=Netflix_model.predict(11664, iid, r_ui=2, verbose=True)"
   ]
  },
  {
   "cell_type": "markdown",
   "metadata": {},
   "source": [
    "최적화 후에는 결과가 양호해졌다.\n",
    "\n",
    "하지만 점수 기반으로 추천 시스템을 만들 때 이진 문제로는 한계가 있다."
   ]
  },
  {
   "cell_type": "markdown",
   "metadata": {},
   "source": [
    "---"
   ]
  }
 ],
 "metadata": {
  "kernelspec": {
   "display_name": "Python 3",
   "language": "python",
   "name": "python3"
  },
  "language_info": {
   "codemirror_mode": {
    "name": "ipython",
    "version": 3
   },
   "file_extension": ".py",
   "mimetype": "text/x-python",
   "name": "python",
   "nbconvert_exporter": "python",
   "pygments_lexer": "ipython3",
   "version": "3.6.4"
  }
 },
 "nbformat": 4,
 "nbformat_minor": 2
}
